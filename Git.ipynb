{
 "cells": [
  {
   "cell_type": "markdown",
   "metadata": {},
   "source": [
    "Git merges files together = allow people to work on the same files simultaneously - distributed, version control system\n"
   ]
  },
  {
   "cell_type": "markdown",
   "metadata": {},
   "source": [
    "git commit = snapshot of directory at a certain time -> make changes -> git commit = another snapshot\n",
    "git diff = changes made since last commit & not staged for next command"
   ]
  },
  {
   "cell_type": "code",
   "execution_count": null,
   "metadata": {},
   "outputs": [],
   "source": [
    "git init:\n",
    "    create git repo\n",
    "    \"\"\"don't make home directory into a repo -> too much changes to track\"\"\""
   ]
  },
  {
   "cell_type": "code",
   "execution_count": null,
   "metadata": {},
   "outputs": [],
   "source": [
    "git\n",
    "config --global core.editor \"vim\"\n",
    "ls\n",
    "cd sec2 #into section 2 directory\n",
    "git add sum #add file:sum into current directory\n",
    "git status #to check status of git directory: if nothing changed, show as \"nothing to commit\"\n",
    "vim sum #open file:sum to edit\n",
    "\n",
    "git status #\"Changes not staged for commit:\" - edited file = in red; \"in stage\" = part of next command\n",
    "git add sum #Change made - staged\n",
    "git status #\"Changes to be committed\" - edited file = in green\n",
    "\"\"\"If currently editing a file, need to abort by deleting all changes + quitting to continue \n",
    "(otherwise: error message \"file already exist\")\"\"\"\n",
    "\n",
    "git commit #open file again, make changes -> :x=save & exit -> console shows the changes \n",
    "\n",
    "git log\n",
    "\n",
    "vim xxx.txt:\n",
    "    create a new text file\n",
    "git add . #add everything\n",
    "git status #shows that newly created xxx.txt in green = staged\n",
    "git commit #to edit again; save & quit with :wq\n"
   ]
  },
  {
   "cell_type": "code",
   "execution_count": null,
   "metadata": {},
   "outputs": [],
   "source": [
    "\"\"\"Branching & Editing\"\"\"\n",
    "\n",
    "git branch feature1\n",
    "git branch #which branch are we on? - the one in green and marked with *\n",
    "git checkout feature1 #switched to branch 'feature1'\n",
    "git branch #now feature1 is green and marked with *\n",
    "\"\"\"Now whatever changes are made to feature1\"\"\"\n",
    "git log #shows all the changes, including new changes on the feature1 branch\n",
    "git checkout master\n",
    "git log #cannot see the changes made on the feature branch\n",
    "less tuesdaystruggle.txt #to checkout the file on master branch\n",
    "vim tuesdaystruggle.txt\n",
    "git status #file not staged\n",
    "git add .\n",
    "git commit #add nother subject line\n",
    "git log #see the new change made from the command line above\n"
   ]
  },
  {
   "cell_type": "code",
   "execution_count": null,
   "metadata": {},
   "outputs": [],
   "source": [
    "\"\"\"Merging\"\"\"\n",
    "\n",
    "###need to have a clean working directory before switching branch merge into master command\n",
    "git checkout master #to make sure you are in the desired master branch\n",
    "git merge feature1 #conflict! different versions in different branches for the same file name\n",
    "vim tuesdaystruggle.txt #delete unwanted text #>>>>>head to =======; ======= to >>>>>>feature1\n",
    "git add tuesdaystruggle.txt  #tell git that changes are finalized for the timebeing\n",
    "git status #shows that there are no more conflict\n",
    "git commit #shows subject line: Merge branch 'feature1' ----- leave it be\n",
    "less tuesdaystruggle.txt #merged message!\n",
    "\n",
    "git log --graph #shows the changes over time ---  Merge: 4caa8cd c2cfd4b = address\n",
    "# commit 9055855fdbe65c207896c2fe1f4ca19293a51f27 = shell address, 40digit unique ID -> through hash -> digest\n",
    "# graph doesnt show which color branch is which branch (only that they're different) - judge from \"memory\"\n",
    "\n",
    "git branch -D feature1 #deleted branch - no longer needed after contents merged with master branch\n",
    "git status\n",
    "git branch #shows that only master branch is left"
   ]
  },
  {
   "cell_type": "code",
   "execution_count": null,
   "metadata": {},
   "outputs": [],
   "source": [
    "rm -rf .git #rm = remove, -rf = recurse, enforce\n",
    "rm -rf \"....(path to file name)\" #remove excessive file"
   ]
  },
  {
   "cell_type": "code",
   "execution_count": null,
   "metadata": {},
   "outputs": [],
   "source": [
    "\"\"\"Encrypting\"\"\"\n",
    "\n",
    "ssh-keygen -t rsa -b 4096 #higher power = more encrypted (e.g. cia: 10^7000 = 7089)\n",
    "#skip through by pressing \"enter\" - generate a unique key! see screenshot\n",
    "cd\n",
    "less ~/.ssh/id_rsa #snippets of key, super long\n",
    "less ~/.ssh/id_rsa.pub #public key portion"
   ]
  },
  {
   "cell_type": "code",
   "execution_count": null,
   "metadata": {},
   "outputs": [],
   "source": [
    "\"\"\"Github\"\"\"\n",
    "\n",
    "#In account page -> settings -> SSH and GPG keys -> SSH key: paste in the public key\n",
    "\n",
    "#Create repository -> create a name -> choose \"ssh\" (not https) on top -> ...\n",
    "\n",
    "\"\"\"back in vm console\"\"\"\n",
    "cd sec2\n",
    "#paste the url under \"…or push an existing repository from the command line\" \n",
    "git remote add origin git@github.com:claireyyf/claireishungry.git\n",
    "git push -u origin master -> yes, trust\n",
    "\n",
    "#previous files and changes and whatever done with git commands now show up!! \n",
    "\n",
    "#pushing to Github = all of the codes"
   ]
  },
  {
   "cell_type": "markdown",
   "metadata": {},
   "source": [
    "**Get stuff from Github**\n",
    "- find the desired repo\n",
    "- git clone git@github.com: ..... (_downloading speed over the Internet, not local modal_)\n",
    "- show up as a new directory\n",
    "\n",
    "**Make contributor**\n",
    "- In a repo -> settings -> collaborators -> add by username\n",
    "- Changes made by the collaborator may be pushed to the repo in the same way (git push -u origin ...)\n",
    "- Collaborators' edits show up in _pull request_ -> add useful lines to code\n"
   ]
  },
  {
   "cell_type": "markdown",
   "metadata": {},
   "source": [
    "### SSH (encrypting)\n",
    "\n",
    "### public-private key pairing \n",
    "Public-key cryptography, or asymmetric cryptography, is any cryptographic system that uses pairs of keys: _public keys_ which may be disseminated widely, and _private keys_ which are known only to the owner. This accomplishes 2 functions: 1) authentication, where the public key verifies that a holder of the paired private key sent the message, and 2) encryption, where only the paired private key holder can decrypt the message encrypted with the public key.\n",
    "\n",
    "In a public key encryption system, any person can encrypt a message using the receiver's _public key_. That encrypted message can only be decrypted with the receiver's _private key_. (Wikipedia)\n",
    "\n",
    "**check it's the sender - only so that public key work in conjunction with private key\n",
    "\n",
    "***RSA"
   ]
  }
 ],
 "metadata": {
  "kernelspec": {
   "display_name": "Python 3",
   "language": "python",
   "name": "python3"
  },
  "language_info": {
   "codemirror_mode": {
    "name": "ipython",
    "version": 3
   },
   "file_extension": ".py",
   "mimetype": "text/x-python",
   "name": "python",
   "nbconvert_exporter": "python",
   "pygments_lexer": "ipython3",
   "version": "3.6.5"
  }
 },
 "nbformat": 4,
 "nbformat_minor": 2
}
